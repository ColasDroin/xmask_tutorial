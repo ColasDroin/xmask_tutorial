{
 "cells": [
  {
   "attachments": {},
   "cell_type": "markdown",
   "metadata": {},
   "source": [
    "## A tutorial on the xmask package"
   ]
  },
  {
   "attachments": {},
   "cell_type": "markdown",
   "metadata": {},
   "source": [
    "### How to install"
   ]
  },
  {
   "attachments": {},
   "cell_type": "markdown",
   "metadata": {},
   "source": [
    "Get the latest version of xsuite, cpymad, etc:\n",
    "\n",
    "    pip install xsuite\n",
    "    pip install cpymad\n",
    "\n",
    "Get hllhc15 \n",
    "    \n",
    "    git clone https://github.com/lhcopt/hllhc15.git\n",
    "\n",
    "Uninstall the old version of xmask (not compatible with lhc errors as for now):\n",
    "\n",
    "    pip uninstall xmask\n",
    "\n",
    "Install the new version of xmask locally, including submodules for lhc errors:\n",
    "\n",
    "    git clone https://github.com/xsuite/xmask.git xmask_github\n",
    "    cd xmask_github\n",
    "    git submodule init\n",
    "    git submodule update\n",
    "    pip install -e .\n",
    "\n",
    "One can precompile the code in xsuite for faster execution:\n",
    "\n",
    "    xsuite-compile\n"
   ]
  },
  {
   "attachments": {},
   "cell_type": "markdown",
   "metadata": {},
   "source": [
    "### Imports"
   ]
  },
  {
   "cell_type": "code",
   "execution_count": 1,
   "metadata": {},
   "outputs": [],
   "source": [
    "# Standard imports\n",
    "import os\n",
    "import pandas as pd\n",
    "import matplotlib.pyplot as plt\n",
    "\n",
    "# Xmask\n",
    "import xmask as xm\n",
    "import xtrack as xt\n",
    "\n",
    "# Cpymad (Python wrapper for MAD-X, used to build sequence and apply optics)\n",
    "from cpymad.madx import Madx\n",
    "\n",
    "# Import user-defined optics-specific tools (functions to build sequence and apply optics)\n",
    "from tools import optics_specific_tools_hlhc15 as ost\n",
    "\n",
    "# Plotting function\n",
    "from tools.plotting_functions import plot_all\n"
   ]
  },
  {
   "cell_type": "code",
   "execution_count": 2,
   "metadata": {},
   "outputs": [],
   "source": [
    "# Constants to compartimentalize the code\n",
    "DO_STEP_0 = True\n",
    "DO_EXPLORATION_STEP_0 = True\n",
    "DO_STEP_1 = True\n",
    "DO_EXPLORATION_STEP_1 = True\n",
    "DO_STEP_2 = True\n",
    "DO_EXPLORATION_STEP_2 = True\n",
    "DO_STEP_3 = True\n",
    "DO_EXPLORATION_STEP_3 = True\n",
    "DO_STEP_4 = True\n"
   ]
  },
  {
   "attachments": {},
   "cell_type": "markdown",
   "metadata": {},
   "source": [
    "### Build collider from MAD model"
   ]
  },
  {
   "cell_type": "code",
   "execution_count": null,
   "metadata": {},
   "outputs": [],
   "source": [
    "config_mad_model = None\n",
    "if DO_STEP_0:\n",
    "    # Get mad config from general config file\n",
    "    with open(\"config.yaml\", \"r\") as fid:\n",
    "        config = xm.yaml.load(fid)\n",
    "    config_mad_model = config[\"config_mad\"]\n",
    "\n",
    "config_mad_model\n"
   ]
  },
  {
   "cell_type": "code",
   "execution_count": null,
   "metadata": {},
   "outputs": [],
   "source": [
    "if DO_STEP_0:\n",
    "    # Make mad environment\n",
    "    xm.make_mad_environment(links=config_mad_model[\"links\"])\n",
    "\n",
    "    # Start mad\n",
    "    mad_b1b2 = Madx(command_log=\"mad_collider.log\")\n",
    "    mad_b4 = Madx(command_log=\"mad_b4.log\")\n"
   ]
  },
  {
   "cell_type": "code",
   "execution_count": null,
   "metadata": {},
   "outputs": [],
   "source": [
    "if DO_STEP_0:\n",
    "    # Build sequences for beam 1 and 4\n",
    "    ost.build_sequence(mad_b1b2, mylhcbeam=1)\n",
    "    ost.build_sequence(mad_b4, mylhcbeam=4)\n"
   ]
  },
  {
   "cell_type": "code",
   "execution_count": null,
   "metadata": {},
   "outputs": [],
   "source": [
    "if DO_STEP_0:\n",
    "    # Apply optics (only for b1b2, b4 will be generated from b1b2)\n",
    "    ost.apply_optics(mad_b1b2, optics_file=config_mad_model[\"optics_file\"])\n"
   ]
  },
  {
   "cell_type": "code",
   "execution_count": null,
   "metadata": {},
   "outputs": [],
   "source": [
    "if DO_STEP_0:\n",
    "    # Build xsuite collider\n",
    "    collider = xm.lhc.build_xsuite_collider(\n",
    "        sequence_b1=mad_b1b2.sequence.lhcb1,\n",
    "        sequence_b2=mad_b1b2.sequence.lhcb2,\n",
    "        sequence_b4=mad_b4.sequence.lhcb2,\n",
    "        beam_config=config_mad_model[\"beam_config\"],\n",
    "        enable_imperfections=config_mad_model[\"enable_imperfections\"],\n",
    "        enable_knob_synthesis=config_mad_model[\"enable_knob_synthesis\"],\n",
    "        pars_for_imperfections=config_mad_model[\"pars_for_imperfections\"],\n",
    "        ver_lhc_run=config_mad_model[\"ver_lhc_run\"],\n",
    "        ver_hllhc_optics=config_mad_model[\"ver_hllhc_optics\"],\n",
    "    )\n"
   ]
  },
  {
   "cell_type": "code",
   "execution_count": null,
   "metadata": {},
   "outputs": [],
   "source": [
    "if DO_STEP_0:\n",
    "    # Create output folder if it does not exist\n",
    "    if not os.path.exists(\"output\"):\n",
    "        os.makedirs(\"output\")\n",
    "\n",
    "    # Save to file\n",
    "    collider.to_json(\"output/collider_00_from_mad.json\")\n"
   ]
  },
  {
   "cell_type": "code",
   "execution_count": null,
   "metadata": {},
   "outputs": [],
   "source": [
    "if DO_STEP_0:\n",
    "    # Remove all the temporaty files created in the process of building collider\n",
    "    os.remove(\"mad_collider.log\")\n",
    "    os.remove(\"mad_b4.log\")\n",
    "    os.rmdir(\"temp\")\n",
    "    os.unlink(\"errors\")\n",
    "    os.unlink(\"acc-models-lhc\")\n"
   ]
  },
  {
   "attachments": {},
   "cell_type": "markdown",
   "metadata": {},
   "source": [
    "### Explore vanilla collider with no knobs nor bb"
   ]
  },
  {
   "cell_type": "code",
   "execution_count": null,
   "metadata": {},
   "outputs": [],
   "source": [
    "if DO_EXPLORATION_STEP_0:\n",
    "    # Collider can by reloaded from json file\n",
    "    collider = xt.Multiline.from_json(\"output/collider_00_from_mad.json\")\n",
    "\n",
    "    # Build trackers to be able to twiss, track, etc\n",
    "    collider.build_trackers()\n"
   ]
  },
  {
   "cell_type": "code",
   "execution_count": null,
   "metadata": {},
   "outputs": [],
   "source": [
    "if DO_EXPLORATION_STEP_0:\n",
    "    # A collider contain a list of lines: beam 1 and beam 2, and beam 1 and beam 2 for the closed orbit (all knobs set to zero)\n",
    "    print(collider.lines.keys())\n"
   ]
  },
  {
   "cell_type": "code",
   "execution_count": null,
   "metadata": {},
   "outputs": [],
   "source": [
    "if DO_EXPLORATION_STEP_0:\n",
    "\n",
    "    # A collider also contain some knobs\n",
    "    print(collider.vars._get_value())\n",
    "\n",
    "    # And same for the line inside of the collider\n",
    "    print(collider.lhcb1.vars._get_value())\n"
   ]
  },
  {
   "cell_type": "code",
   "execution_count": null,
   "metadata": {},
   "outputs": [],
   "source": [
    "if DO_EXPLORATION_STEP_0:\n",
    "    # Knobs values can be accessed and modified indivually\n",
    "    print(\"Value before modification: \", collider.vars[\"on_x5\"]._get_value())\n",
    "    collider.vars[\"on_x5\"] = 100\n",
    "    print(\"Value after modification: \", collider.vars[\"on_x5\"]._get_value())\n",
    "    collider.vars[\"on_x5\"] = 0\n"
   ]
  },
  {
   "cell_type": "code",
   "execution_count": null,
   "metadata": {},
   "outputs": [],
   "source": [
    "tw1 = None\n",
    "if DO_EXPLORATION_STEP_0:\n",
    "    # One can twiss the lines in the collider (in 4D, since RF hasn't been added yet)\n",
    "    # Note that the twiss in the second line is reversed, to get the same s coordinates for both lines\n",
    "    tw1_step0 = collider.lhcb1.twiss(method=\"4d\")\n",
    "    tw2_step0 = collider.lhcb2.twiss(method=\"4d\").reverse()\n",
    "    tw1_co_step0 = collider.lhcb1_co_ref.twiss(method=\"4d\")\n",
    "    tw2_co_step0 = collider.lhcb2_co_ref.twiss(method=\"4d\").reverse()\n",
    "    print(tw1_step0.to_pandas())\n"
   ]
  },
  {
   "cell_type": "code",
   "execution_count": null,
   "metadata": {},
   "outputs": [],
   "source": [
    "if DO_EXPLORATION_STEP_0:\n",
    "    # TwissTable offers fancy possibilites for indexing\n",
    "    print(\n",
    "        tw1_step0.rows[\n",
    "            \"ip4\":\"ip6\",\n",
    "            \"mq.*\",\n",
    "            3500:3600:\"s\",\n",
    "            tw1_step0.betx > 500,\n",
    "            [\"mqy.6r4.b1..1\", \"mqy.6r4.b1..2\"],\n",
    "        ].cols[\"s\", \"betx\"]\n",
    "    )\n"
   ]
  },
  {
   "cell_type": "code",
   "execution_count": null,
   "metadata": {},
   "outputs": [],
   "source": [
    "if DO_EXPLORATION_STEP_0:\n",
    "    # We can check what the no beambeam elements have been added, e.g. in ip5\n",
    "    tw1_step0 = collider.lhcb1.twiss(method=\"4d\")\n",
    "    print(tw1_step0.rows[\"ip4\":\"ip6\", \"bb.*\"].cols[\"s\"])\n"
   ]
  },
  {
   "cell_type": "code",
   "execution_count": null,
   "metadata": {},
   "outputs": [],
   "source": [
    "if DO_EXPLORATION_STEP_0:\n",
    "    # Check that for now the twiss is the same for the standard line and the reference line (since knobs haven't been applied)\n",
    "    tw1_step0_pd = tw1_step0.to_pandas().drop(columns=[\"W_matrix\"])\n",
    "    tw1_co_step0_pd = tw1_co_step0.to_pandas().drop(columns=[\"W_matrix\"])\n",
    "    df_diff = pd.concat([tw1_step0_pd, tw1_co_step0_pd]).drop_duplicates(keep=False)\n",
    "    print(df_diff)\n"
   ]
  },
  {
   "cell_type": "code",
   "execution_count": null,
   "metadata": {},
   "outputs": [],
   "source": [
    "p = None\n",
    "if DO_EXPLORATION_STEP_0:\n",
    "    # For now, the beams are equal to their reference (since knobs haven't been applied)\n",
    "    p = plot_all(tw1_step0_pd, tw1_co_step0_pd, \"beam 1\", \"beam 1 co ref\")\n",
    "p\n"
   ]
  },
  {
   "cell_type": "code",
   "execution_count": null,
   "metadata": {},
   "outputs": [],
   "source": [
    "if DO_EXPLORATION_STEP_0:\n",
    "    # One can also get the corresponding surveys\n",
    "    sv1_step0 = collider.lhcb1.survey()\n",
    "    sv2_step0 = collider.lhcb2.survey().reverse()\n",
    "    sv1_co_step0 = collider.lhcb1_co_ref.survey()\n",
    "    sv2_co_step0 = collider.lhcb2_co_ref.survey().reverse()\n",
    "\n",
    "    print(sv1_step0.to_pandas())\n"
   ]
  },
  {
   "cell_type": "code",
   "execution_count": null,
   "metadata": {},
   "outputs": [],
   "source": [
    "p = None\n",
    "if DO_EXPLORATION_STEP_0:\n",
    "    # We can check what the beams looks like along the collider\n",
    "    tw1_step0_pd = tw1_step0.to_pandas()\n",
    "    tw2_step0_pd = tw2_step0.to_pandas()\n",
    "    p = plot_all(tw1_step0_pd, tw2_step0_pd, \"beam 1\", \"beam 2\")\n",
    "p\n"
   ]
  },
  {
   "attachments": {},
   "cell_type": "markdown",
   "metadata": {},
   "source": [
    "### Set up beambeam lenses (they stay inactive and not configured) "
   ]
  },
  {
   "cell_type": "code",
   "execution_count": null,
   "metadata": {},
   "outputs": [],
   "source": [
    "config_bb = None\n",
    "if DO_STEP_1:\n",
    "    # Collider can by reloaded from json file\n",
    "    collider = xt.Multiline.from_json(\"output/collider_00_from_mad.json\")\n",
    "\n",
    "    # Get beambeam config from general config file\n",
    "    with open(\"config.yaml\", \"r\") as fid:\n",
    "        config = xm.yaml.load(fid)\n",
    "    config_bb = config[\"config_beambeam\"]\n",
    "\n",
    "config_bb\n"
   ]
  },
  {
   "cell_type": "code",
   "execution_count": null,
   "metadata": {},
   "outputs": [],
   "source": [
    "if DO_STEP_1:\n",
    "    # Install beam-beam lenses (inactive and not configured)\n",
    "    collider.install_beambeam_interactions(\n",
    "        clockwise_line=\"lhcb1\",\n",
    "        anticlockwise_line=\"lhcb2\",\n",
    "        ip_names=[\"ip1\", \"ip2\", \"ip5\", \"ip8\"],\n",
    "        num_long_range_encounters_per_side=config_bb[\"num_long_range_encounters_per_side\"],\n",
    "        num_slices_head_on=config_bb[\"num_slices_head_on\"],\n",
    "        harmonic_number=35640,\n",
    "        bunch_spacing_buckets=config_bb[\"bunch_spacing_buckets\"],\n",
    "        sigmaz=config_bb[\"sigma_z\"],\n",
    "    )\n"
   ]
  },
  {
   "cell_type": "code",
   "execution_count": null,
   "metadata": {},
   "outputs": [],
   "source": [
    "if DO_STEP_1:\n",
    "    # Save collider as json\n",
    "    collider.to_json(\"output/collider_01_bb_off.json\")\n"
   ]
  },
  {
   "attachments": {},
   "cell_type": "markdown",
   "metadata": {},
   "source": [
    "### Explore the collider after setting up the beambeam lenses"
   ]
  },
  {
   "cell_type": "code",
   "execution_count": 7,
   "metadata": {},
   "outputs": [
    {
     "name": "stdout",
     "output_type": "stream",
     "text": [
      "Done loading line from dict.           \n",
      "Done loading line from dict.           \n",
      "Done loading line from dict.           \n",
      "Done loading line from dict.           \n",
      "Found suitable prebuilt kernel `default_bb3d`.\n",
      "Found suitable prebuilt kernel `default_bb3d`.\n",
      "Found suitable prebuilt kernel `default_only_xtrack`.\n",
      "Found suitable prebuilt kernel `default_only_xtrack`.\n"
     ]
    }
   ],
   "source": [
    "if DO_EXPLORATION_STEP_1:\n",
    "    # Collider can by reloaded from json file\n",
    "    collider = xt.Multiline.from_json(\"output/collider_01_bb_off.json\")\n",
    "\n",
    "    # Build trackers to be able to twiss, track, etc\n",
    "    collider.build_trackers()\n"
   ]
  },
  {
   "cell_type": "code",
   "execution_count": 8,
   "metadata": {},
   "outputs": [
    {
     "name": "stdout",
     "output_type": "stream",
     "text": [
      "TwissTable: 63 rows, 18 cols\n",
      "name                                                 s\n",
      "bblr.4l5.b1                                     6471.7\n",
      "bb_lr.l5b1_25                                  6571.07\n",
      "bb_lr.l5b1_24                                  6574.81\n",
      "bb_lr.l5b1_23                                  6578.55\n",
      "bb_lr.l5b1_22                                  6582.29\n",
      "bb_lr.l5b1_21                                  6586.03\n",
      "bb_lr.l5b1_20                                  6589.77\n",
      "bb_lr.l5b1_19                                  6593.51\n",
      "bb_lr.l5b1_18                                  6597.25\n",
      "bb_lr.l5b1_17                                  6600.99\n",
      "bb_lr.l5b1_16                                  6604.73\n",
      "bb_lr.l5b1_15                                  6608.47\n",
      "bb_lr.l5b1_14                                  6612.21\n",
      "bb_lr.l5b1_13                                  6615.95\n",
      "bb_lr.l5b1_12                                  6619.69\n",
      "bb_lr.l5b1_11                                  6623.43\n",
      "bb_lr.l5b1_10                                  6627.17\n",
      "bb_lr.l5b1_09                                  6630.91\n",
      "bb_lr.l5b1_08                                  6634.65\n",
      "bb_lr.l5b1_07                                  6638.39\n",
      "bb_lr.l5b1_06                                  6642.13\n",
      "bb_lr.l5b1_05                                  6645.87\n",
      "bb_lr.l5b1_04                                  6649.61\n",
      "bb_lr.l5b1_03                                  6653.35\n",
      "bb_lr.l5b1_02                                  6657.09\n",
      "bb_lr.l5b1_01                                  6660.83\n",
      "bb_ho.l5b1_05                                   6664.5\n",
      "bb_ho.l5b1_04                                  6664.53\n",
      "bb_ho.l5b1_03                                  6664.54\n",
      "bb_ho.l5b1_02                                  6664.55\n",
      "bb_ho.l5b1_01                                  6664.56\n",
      "bb_ho.c5b1_00                                  6664.57\n",
      "bb_ho.r5b1_01                                  6664.58\n",
      "bb_ho.r5b1_02                                  6664.59\n",
      "bb_ho.r5b1_03                                   6664.6\n",
      "bb_ho.r5b1_04                                  6664.61\n",
      "bb_ho.r5b1_05                                  6664.64\n",
      "bb_lr.r5b1_01                                  6668.31\n",
      "bb_lr.r5b1_02                                  6672.05\n",
      "bb_lr.r5b1_03                                  6675.79\n",
      "bb_lr.r5b1_04                                  6679.53\n",
      "bb_lr.r5b1_05                                  6683.27\n",
      "bb_lr.r5b1_06                                  6687.01\n",
      "bb_lr.r5b1_07                                  6690.75\n",
      "bb_lr.r5b1_08                                  6694.49\n",
      "bb_lr.r5b1_09                                  6698.23\n",
      "bb_lr.r5b1_10                                  6701.97\n",
      "bb_lr.r5b1_11                                  6705.71\n",
      "bb_lr.r5b1_12                                  6709.45\n",
      "bb_lr.r5b1_13                                  6713.19\n",
      "bb_lr.r5b1_14                                  6716.93\n",
      "bb_lr.r5b1_15                                  6720.67\n",
      "bb_lr.r5b1_16                                  6724.41\n",
      "bb_lr.r5b1_17                                  6728.15\n",
      "bb_lr.r5b1_18                                  6731.89\n",
      "bb_lr.r5b1_19                                  6735.63\n",
      "bb_lr.r5b1_20                                  6739.37\n",
      "bb_lr.r5b1_21                                  6743.11\n",
      "bb_lr.r5b1_22                                  6746.85\n",
      "bb_lr.r5b1_23                                  6750.59\n",
      "bb_lr.r5b1_24                                  6754.33\n",
      "bb_lr.r5b1_25                                  6758.07\n",
      "bblr.4r5.b1                                    6852.64\n"
     ]
    }
   ],
   "source": [
    "if DO_EXPLORATION_STEP_1:\n",
    "    # We can check what the beams elements have been added\n",
    "    tw1_step1 = collider.lhcb1.twiss(method=\"4d\")\n",
    "    print(tw1_step1.rows[\"ip4\":\"ip6\", \"bb.*\"].cols[\"s\"])\n"
   ]
  },
  {
   "cell_type": "code",
   "execution_count": 9,
   "metadata": {},
   "outputs": [
    {
     "name": "stdout",
     "output_type": "stream",
     "text": [
      "                         name           s    x   px    y   py  zeta  delta  \\\n",
      "5437         drift_2716_part0   6555.9808  0.0  0.0  0.0  0.0   0.0    0.0   \n",
      "5438            bb_lr.l5b1_25   6571.0679  0.0  0.0  0.0  0.0   0.0    0.0   \n",
      "5439         drift_2716_part1   6571.0679  0.0  0.0  0.0  0.0   0.0    0.0   \n",
      "5441   drift_2717_part0_part0   6573.3129  0.0  0.0  0.0  0.0   0.0    0.0   \n",
      "5442            bb_lr.l5b1_24   6574.8079  0.0  0.0  0.0  0.0   0.0    0.0   \n",
      "...                       ...         ...  ...  ...  ...  ...   ...    ...   \n",
      "20920             drift_10388  23385.9270  0.0  0.0  0.0  0.0   0.0    0.0   \n",
      "20924             drift_10390  23389.7070  0.0  0.0  0.0  0.0   0.0    0.0   \n",
      "20928             drift_10392  23393.4870  0.0  0.0  0.0  0.0   0.0    0.0   \n",
      "20930             drift_10393  23396.0395  0.0  0.0  0.0  0.0   0.0    0.0   \n",
      "20932             drift_10394  23398.1470  0.0  0.0  0.0  0.0   0.0    0.0   \n",
      "\n",
      "       ptau       betx  ...      mux      muy  muzeta  nux  nuy  nuzeta  \\\n",
      "5437    0.0  2923.6399  ...  14.7171  14.1223     0.0  1.0  1.0     1.0   \n",
      "5438    0.0  3305.1651  ...  14.7179  14.1224     0.0  1.0  1.0     1.0   \n",
      "5439    0.0  3305.1651  ...  14.7179  14.1224     0.0  1.0  1.0     1.0   \n",
      "5441    0.0  3363.9511  ...  14.7180  14.1224     0.0  1.0  1.0     1.0   \n",
      "5442    0.0  3403.3846  ...  14.7180  14.1224     0.0  1.0  1.0     1.0   \n",
      "...     ...        ...  ...      ...      ...     ...  ...  ...     ...   \n",
      "20920   0.0   105.6462  ...  54.7788  52.6549     0.0  1.0  1.0     1.0   \n",
      "20924   0.0   103.3704  ...  54.7846  52.6580     0.0  1.0  1.0     1.0   \n",
      "20928   0.0   101.3930  ...  54.7904  52.6613     0.0  1.0  1.0     1.0   \n",
      "20930   0.0   100.2263  ...  54.7945  52.6637     0.0  1.0  1.0     1.0   \n",
      "20932   0.0    99.3656  ...  54.7978  52.6657     0.0  1.0  1.0     1.0   \n",
      "\n",
      "           betx1  bety1  betx2       bety2  \n",
      "5437   2923.6399    0.0    0.0  22856.6381  \n",
      "5438   3305.1651    0.0    0.0  29041.2733  \n",
      "5439   3305.1651    0.0    0.0  29041.2733  \n",
      "5441   3363.9511    0.0    0.0  30024.8215  \n",
      "5442   3403.3846    0.0    0.0  30688.8318  \n",
      "...          ...    ...    ...         ...  \n",
      "20920   105.6462    0.0    0.0    197.1884  \n",
      "20924   103.3704    0.0    0.0    186.8714  \n",
      "20928   101.3930    0.0    0.0    176.9805  \n",
      "20930   100.2263    0.0    0.0    170.5425  \n",
      "20932    99.3656    0.0    0.0    165.3733  \n",
      "\n",
      "[752 rows x 30 columns]\n"
     ]
    }
   ],
   "source": [
    "if DO_EXPLORATION_STEP_1:\n",
    "    # The beam is not anymore equal to its reference, as the reference has no beam-beam elements, which introduce many drifts\n",
    "    tw1_step1_pd = tw1_step1.to_pandas().drop(columns=[\"W_matrix\"]).round(4)\n",
    "    tw1_co_step1 = collider.lhcb1_co_ref.twiss(method=\"4d\")\n",
    "    tw1_co_step1_pd = tw1_co_step1.to_pandas().drop(columns=[\"W_matrix\"]).round(4)\n",
    "    df_diff = pd.concat([tw1_step1_pd, tw1_co_step1_pd]).drop_duplicates(keep=False)\n",
    "    print(df_diff)\n"
   ]
  },
  {
   "cell_type": "code",
   "execution_count": 10,
   "metadata": {},
   "outputs": [],
   "source": [
    "p = None\n",
    "if DO_EXPLORATION_STEP_1:\n",
    "    # However, the observables are still identical\n",
    "    p = plot_all(tw1_step1_pd, tw1_co_step1_pd, \"beam 1\", \"beam 1 co ref\")\n",
    "p\n"
   ]
  },
  {
   "attachments": {},
   "cell_type": "markdown",
   "metadata": {},
   "source": [
    "### Configure knobs and tuning"
   ]
  },
  {
   "cell_type": "code",
   "execution_count": 11,
   "metadata": {},
   "outputs": [
    {
     "name": "stdout",
     "output_type": "stream",
     "text": [
      "Done loading line from dict.           \n",
      "Done loading line from dict.           \n",
      "Done loading line from dict.           \n",
      "Done loading line from dict.           \n",
      "Found suitable prebuilt kernel `default_bb3d`.\n",
      "Found suitable prebuilt kernel `default_bb3d`.\n",
      "Found suitable prebuilt kernel `default_only_xtrack`.\n",
      "Found suitable prebuilt kernel `default_only_xtrack`.\n"
     ]
    },
    {
     "data": {
      "text/plain": [
       "{'knob_settings': {'on_x1': 250,\n",
       "  'on_sep1': 0,\n",
       "  'on_x2': -170,\n",
       "  'on_sep2': 0.138,\n",
       "  'on_x5': 250,\n",
       "  'on_sep5': 0,\n",
       "  'on_x8': -250,\n",
       "  'on_sep8': -0.043,\n",
       "  'on_a1': 0,\n",
       "  'on_o1': 0,\n",
       "  'on_a2': 0,\n",
       "  'on_o2': 0,\n",
       "  'on_a5': 0,\n",
       "  'on_o5': 0,\n",
       "  'on_a8': 0,\n",
       "  'on_o8': 0,\n",
       "  'on_disp': 1,\n",
       "  'on_crab1': -190,\n",
       "  'on_crab5': -190,\n",
       "  'on_alice_normalized': 1,\n",
       "  'on_lhcb_normalized': 1,\n",
       "  'on_sol_atlas': 0,\n",
       "  'on_sol_cms': 0,\n",
       "  'on_sol_alice': 0,\n",
       "  'vrf400': 16.0,\n",
       "  'lagrf400.b1': 0.5,\n",
       "  'lagrf400.b2': 0.0,\n",
       "  'i_oct_b1': -235,\n",
       "  'i_oct_b2': -235},\n",
       " 'closed_orbit_correction': {'lhcb1': 'corr_co_lhcb1.json',\n",
       "  'lhcb2': 'corr_co_lhcb2.json'},\n",
       " 'qx': {'lhcb1': 62.316, 'lhcb2': 62.321},\n",
       " 'qy': {'lhcb1': 60.316, 'lhcb2': 60.321},\n",
       " 'dqx': {'lhcb1': 15, 'lhcb2': 15},\n",
       " 'dqy': {'lhcb1': 15, 'lhcb2': 15},\n",
       " 'knob_names': {'lhcb1': {'q_knob_1': 'kqtf.b1',\n",
       "   'q_knob_2': 'kqtd.b1',\n",
       "   'dq_knob_1': 'ksf.b1',\n",
       "   'dq_knob_2': 'ksd.b1',\n",
       "   'c_minus_knob_1': 'c_minus_re_b1',\n",
       "   'c_minus_knob_2': 'c_minus_im_b1'},\n",
       "  'lhcb2': {'q_knob_1': 'kqtf.b2',\n",
       "   'q_knob_2': 'kqtd.b2',\n",
       "   'dq_knob_1': 'ksf.b2',\n",
       "   'dq_knob_2': 'ksd.b2',\n",
       "   'c_minus_knob_1': 'c_minus_re_b2',\n",
       "   'c_minus_knob_2': 'c_minus_im_b2'}}}"
      ]
     },
     "execution_count": 11,
     "metadata": {},
     "output_type": "execute_result"
    }
   ],
   "source": [
    "config_knobs_and_tuning = None\n",
    "if DO_STEP_2:\n",
    "    # Collider can by reloaded from json file\n",
    "    collider = xt.Multiline.from_json(\"output/collider_01_bb_off.json\")\n",
    "    collider.build_trackers()\n",
    "\n",
    "    # Get beambeam config from general config file\n",
    "    with open(\"config.yaml\", \"r\") as fid:\n",
    "        config = xm.yaml.load(fid)\n",
    "    config_knobs_and_tuning = config[\"config_knobs_and_tuning\"]\n",
    "\n",
    "config_knobs_and_tuning\n"
   ]
  },
  {
   "cell_type": "code",
   "execution_count": 12,
   "metadata": {},
   "outputs": [],
   "source": [
    "if DO_STEP_2:\n",
    "    # Set all knobs (crossing angles, dispersion correction, rf, crab cavities,\n",
    "    # experimental magnets, etc.)\n",
    "    for kk, vv in config_knobs_and_tuning[\"knob_settings\"].items():\n",
    "        collider.vars[kk] = vv\n"
   ]
  },
  {
   "cell_type": "code",
   "execution_count": 13,
   "metadata": {},
   "outputs": [
    {
     "name": "stdout",
     "output_type": "stream",
     "text": [
      "Correcting closed orbit\n",
      "Correcting IR1 left\n",
      "Matching: twiss call n. 13       \n",
      "\n",
      "Correcting IR1 right\n",
      "Matching: twiss call n. 13       \n",
      "\n",
      "Correcting IR5 left\n",
      "Matching: twiss call n. 13       \n",
      "\n",
      "Correcting IR5 right\n",
      "Matching: twiss call n. 13       \n",
      "\n",
      "Correcting IP1\n",
      "Matching: twiss call n. 21       \n",
      "\n",
      "Correcting IP2\n",
      "Matching: twiss call n. 21       \n",
      "\n",
      "Correcting IP5\n",
      "Matching: twiss call n. 21       \n",
      "\n",
      "Correcting IP8\n",
      "Matching: twiss call n. 21       \n",
      "\n",
      "Matching linear coupling\n",
      "Matching: twiss call n. 3       \n",
      "\n",
      "Matching tune and chromaticity\n",
      "Matching: twiss call n. 13       \n",
      "\n",
      "Correcting closed orbit\n",
      "Correcting IR1 left\n",
      "Matching: twiss call n. 13       \n",
      "\n",
      "Correcting IR1 right\n",
      "Matching: twiss call n. 13       \n",
      "\n",
      "Correcting IR5 left\n",
      "Matching: twiss call n. 13       \n",
      "\n",
      "Correcting IR5 right\n",
      "Matching: twiss call n. 13       \n",
      "\n",
      "Correcting IP1\n",
      "Matching: twiss call n. 21       \n",
      "\n",
      "Correcting IP2\n",
      "Matching: twiss call n. 21       \n",
      "\n",
      "Correcting IP5\n",
      "Matching: twiss call n. 21       \n",
      "\n",
      "Correcting IP8\n",
      "Matching: twiss call n. 21       \n",
      "\n",
      "Matching linear coupling\n",
      "Matching: twiss call n. 3       \n",
      "\n",
      "Matching tune and chromaticity\n",
      "Matching: twiss call n. 14       \n",
      "\n"
     ]
    }
   ],
   "source": [
    "if DO_STEP_2:\n",
    "    # Run the script to generate configuration for orbit correction\n",
    "    %run 'tools/gen_config_orbit_correction.py'\n",
    "\n",
    "    # Adjust tune and chromaticity\n",
    "    for line_name in ['lhcb1', 'lhcb2']:\n",
    "\n",
    "        knob_names = config_knobs_and_tuning['knob_names'][line_name]\n",
    "\n",
    "        targets = {\n",
    "            'qx': config_knobs_and_tuning['qx'][line_name],\n",
    "            'qy': config_knobs_and_tuning['qy'][line_name],\n",
    "            'dqx': config_knobs_and_tuning['dqx'][line_name],\n",
    "            'dqy': config_knobs_and_tuning['dqy'][line_name],\n",
    "        }\n",
    "\n",
    "        xm.machine_tuning(line=collider[line_name],\n",
    "            enable_closed_orbit_correction=True,\n",
    "            enable_linear_coupling_correction=True,\n",
    "            enable_tune_correction=True,\n",
    "            enable_chromaticity_correction=True,\n",
    "            knob_names=knob_names,\n",
    "            targets=targets,\n",
    "            line_co_ref=collider[line_name+'_co_ref'],\n",
    "            co_corr_config=config_knobs_and_tuning['closed_orbit_correction'][line_name])\n",
    "        \n",
    "    # Remove temporary files\n",
    "    os.remove('corr_co_lhcb1.json')\n",
    "    os.remove('corr_co_lhcb2.json')"
   ]
  },
  {
   "cell_type": "code",
   "execution_count": 14,
   "metadata": {},
   "outputs": [],
   "source": [
    "if DO_STEP_2:\n",
    "    # Save collider as json\n",
    "    collider.to_json(\"output/collider_02_tuned_bb_off.json\")\n"
   ]
  },
  {
   "cell_type": "markdown",
   "metadata": {},
   "source": [
    "### Explore the collider with the new tune"
   ]
  },
  {
   "cell_type": "code",
   "execution_count": 22,
   "metadata": {},
   "outputs": [
    {
     "name": "stdout",
     "output_type": "stream",
     "text": [
      "Done loading line from dict.           \n",
      "Done loading line from dict.           \n",
      "Done loading line from dict.           \n",
      "Done loading line from dict.           \n",
      "Found suitable prebuilt kernel `default_bb3d`.\n",
      "Found suitable prebuilt kernel `default_bb3d`.\n",
      "Found suitable prebuilt kernel `default_only_xtrack`.\n",
      "Found suitable prebuilt kernel `default_only_xtrack`.\n"
     ]
    }
   ],
   "source": [
    "if DO_EXPLORATION_STEP_2:\n",
    "    # Collider can by reloaded from json file\n",
    "    collider = xt.Multiline.from_json(\"output/collider_02_tuned_bb_off.json\")\n",
    "\n",
    "    # Build trackers to be able to twiss, track, etc\n",
    "    collider.build_trackers()\n"
   ]
  },
  {
   "cell_type": "code",
   "execution_count": 23,
   "metadata": {},
   "outputs": [],
   "source": [
    "if DO_EXPLORATION_STEP_2:\n",
    "    # Compute new twiss\n",
    "    tw1_step2 = collider.lhcb1.twiss(method=\"4d\")\n",
    "    tw2_step2 = collider.lhcb2.twiss(method=\"4d\").reverse()\n",
    "    tw1_co_step2 = collider.lhcb1_co_ref.twiss(method=\"4d\")\n",
    "    tw2_co_step2 = collider.lhcb2_co_ref.twiss(method=\"4d\").reverse()\n"
   ]
  },
  {
   "cell_type": "code",
   "execution_count": 24,
   "metadata": {},
   "outputs": [],
   "source": [
    "p = None\n",
    "\n",
    "if DO_EXPLORATION_STEP_2:\n",
    "    # Check how the crossing angle has changed\n",
    "    tw1_step2_pd = tw1_step2.to_pandas()\n",
    "    tw1_co_step2_pd = tw1_co_step2.to_pandas()\n",
    "\n",
    "    p = plot_all(tw1_step1_pd, tw1_step2_pd, \"beam 1 before tuning \", \"beam 1\")\n",
    "\n",
    "p\n"
   ]
  },
  {
   "cell_type": "code",
   "execution_count": 6,
   "metadata": {},
   "outputs": [],
   "source": [
    "p = None\n",
    "\n",
    "\n",
    "\n",
    "if DO_EXPLORATION_STEP_2:\n",
    "    # Check how the crossing angle has changed\n",
    "    tw1_step2_pd = tw1_step2.to_pandas()\n",
    "    tw1_co_step2_pd = tw1_co_step2.to_pandas()\n",
    "\n",
    "    p = plot_all(tw1_step2_pd, tw1_co_step2_pd, \"beam 1\", \"beam 1 reference closed orbit\")\n",
    "p\n"
   ]
  },
  {
   "attachments": {},
   "cell_type": "markdown",
   "metadata": {},
   "source": [
    "### Set beambeam interactions"
   ]
  },
  {
   "cell_type": "code",
   "execution_count": null,
   "metadata": {},
   "outputs": [],
   "source": [
    "config_bb = None\n",
    "if DO_STEP_3:\n",
    "    # Collider can by reloaded from json file\n",
    "    collider = xt.Multiline.from_json(\"output/collider_02_tuned_bb_off.json\")\n",
    "    collider.build_trackers()\n",
    "\n",
    "    # Get beambeam config from general config file\n",
    "    with open(\"config.yaml\", \"r\") as fid:\n",
    "        config = xm.yaml.load(fid)\n",
    "    config_bb = config[\"config_beambeam\"]\n",
    "\n",
    "config_bb\n"
   ]
  },
  {
   "cell_type": "code",
   "execution_count": null,
   "metadata": {},
   "outputs": [],
   "source": [
    "if DO_STEP_3:\n",
    "    # Configure beam-beam lenses\n",
    "    collider.configure_beambeam_interactions(\n",
    "        num_particles=config_bb[\"num_particles_per_bunch\"],\n",
    "        nemitt_x=config_bb[\"nemitt_x\"],\n",
    "        nemitt_y=config_bb[\"nemitt_y\"],\n",
    "    )\n"
   ]
  },
  {
   "cell_type": "code",
   "execution_count": null,
   "metadata": {},
   "outputs": [],
   "source": [
    "if DO_STEP_3:\n",
    "    # Save collider as json\n",
    "    collider.to_json(\"collider_03_tuned_bb_on.json\")\n"
   ]
  },
  {
   "attachments": {},
   "cell_type": "markdown",
   "metadata": {},
   "source": [
    "### Explore final state of the collider"
   ]
  },
  {
   "cell_type": "code",
   "execution_count": 18,
   "metadata": {},
   "outputs": [
    {
     "name": "stdout",
     "output_type": "stream",
     "text": [
      "Done loading line from dict.           \n",
      "Done loading line from dict.           \n",
      "Done loading line from dict.           \n",
      "Done loading line from dict.           \n",
      "Found suitable prebuilt kernel `default_bb3d`.\n",
      "Found suitable prebuilt kernel `default_bb3d`.\n",
      "Found suitable prebuilt kernel `default_only_xtrack`.\n",
      "Found suitable prebuilt kernel `default_only_xtrack`.\n"
     ]
    }
   ],
   "source": [
    "if DO_EXPLORATION_STEP_3:\n",
    "    # Collider can by reloaded from json file\n",
    "    collider = xt.Multiline.from_json(\"output/collider_03_tuned_bb_on.json\")\n",
    "\n",
    "    # Build trackers to be able to twiss, track, etc\n",
    "    collider.build_trackers()\n"
   ]
  },
  {
   "cell_type": "code",
   "execution_count": 19,
   "metadata": {},
   "outputs": [],
   "source": [
    "if DO_EXPLORATION_STEP_3:\n",
    "    # Compute new twiss\n",
    "    tw1_step3 = collider.lhcb1.twiss(method=\"4d\")\n",
    "    tw2_step3 = collider.lhcb2.twiss(method=\"4d\").reverse()\n",
    "    tw1_co_step3 = collider.lhcb1_co_ref.twiss(method=\"4d\")\n",
    "    tw2_co_step3 = collider.lhcb2_co_ref.twiss(method=\"4d\").reverse()\n"
   ]
  },
  {
   "cell_type": "code",
   "execution_count": 20,
   "metadata": {},
   "outputs": [],
   "source": [
    "p = None\n",
    "if DO_EXPLORATION_STEP_3:\n",
    "    # Check how the crossing angle has changed\n",
    "    tw1_step3_pd = tw1_step3.to_pandas()\n",
    "    tw1_co_step3_pd = tw1_co_step3.to_pandas()\n",
    "\n",
    "    p = plot_all(tw1_step2_pd, tw1_step3_pd, \"beam 1 before setting bb \", \"beam 1\")\n",
    "\n",
    "p\n"
   ]
  },
  {
   "cell_type": "code",
   "execution_count": 21,
   "metadata": {},
   "outputs": [],
   "source": [
    "p = None\n",
    "if DO_EXPLORATION_STEP_3:\n",
    "    p = plot_all(tw1_step3_pd, tw1_co_step3_pd, \"beam 1\", \"beam 1 reference closed orbit\")\n",
    "p\n"
   ]
  },
  {
   "attachments": {},
   "cell_type": "markdown",
   "metadata": {},
   "source": [
    "### Compute tune footprint"
   ]
  },
  {
   "cell_type": "code",
   "execution_count": null,
   "metadata": {},
   "outputs": [],
   "source": [
    "if DO_STEP_4:\n",
    "    # Collider can by reloaded from json file\n",
    "    collider = xt.Multiline.from_json(\"output/collider_03_tuned_bb_on.json\")\n",
    "\n",
    "    # Build trackers to be able to twiss, track, etc\n",
    "    collider.build_trackers()\n"
   ]
  },
  {
   "cell_type": "code",
   "execution_count": null,
   "metadata": {},
   "outputs": [],
   "source": [
    "# Compute and plot footprint\n",
    "fp0 = collider[\"lhcb1\"].get_footprint(nemitt_x=2.5e-6, nemitt_y=2.5e-6)\n",
    "\n",
    "fp_polar = collider[\"lhcb1\"].get_footprint(\n",
    "    nemitt_x=2.5e-6,\n",
    "    nemitt_y=2.5e-6,\n",
    "    linear_rescale_on_knobs=[xt.LinearRescale(knob_name=\"beambeam_scale\", v0=0.0, dv=0.1)],\n",
    ")\n",
    "\n",
    "\n",
    "fp_ua = collider[\"lhcb1\"].get_footprint(\n",
    "    nemitt_x=2.5e-6,\n",
    "    nemitt_y=2.5e-6,\n",
    "    mode=\"uniform_action_grid\",\n",
    "    linear_rescale_on_knobs=[xt.LinearRescale(knob_name=\"beambeam_scale\", v0=0.0, dv=0.1)],\n",
    ")\n",
    "\n",
    "\n",
    "plt.close(\"all\")\n",
    "\n",
    "fig1 = plt.figure(1)\n",
    "ax1 = fig1.add_subplot(111)\n",
    "fp0.plot(ax=ax1, label=\"no rescale bb\")\n",
    "plt.suptitle(\"Polar mode (default) - no rescale on beambeam\")\n",
    "\n",
    "fig2 = plt.figure(2)\n",
    "ax2 = fig2.add_subplot(111, sharex=ax1, sharey=ax1)\n",
    "fp_polar.plot(ax=ax2, label=\"rescale bb\")\n",
    "plt.suptitle(\"Polar mode (default) - linear rescale on beambeam\")\n",
    "\n",
    "fig3 = plt.figure(3)\n",
    "ax3 = fig3.add_subplot(111, sharex=ax1, sharey=ax1)\n",
    "fp_ua.plot()\n",
    "plt.suptitle(\"Uniform action grid mode - linear rescale on beambeam\")\n",
    "\n",
    "plt.show()\n"
   ]
  },
  {
   "cell_type": "code",
   "execution_count": null,
   "metadata": {},
   "outputs": [],
   "source": []
  },
  {
   "cell_type": "code",
   "execution_count": null,
   "metadata": {},
   "outputs": [],
   "source": []
  },
  {
   "cell_type": "code",
   "execution_count": null,
   "metadata": {},
   "outputs": [],
   "source": []
  },
  {
   "cell_type": "code",
   "execution_count": null,
   "metadata": {},
   "outputs": [],
   "source": []
  }
 ],
 "metadata": {
  "kernelspec": {
   "display_name": "Python 3",
   "language": "python",
   "name": "python3"
  },
  "language_info": {
   "codemirror_mode": {
    "name": "ipython",
    "version": 3
   },
   "file_extension": ".py",
   "mimetype": "text/x-python",
   "name": "python",
   "nbconvert_exporter": "python",
   "pygments_lexer": "ipython3",
   "version": "3.11.2"
  },
  "orig_nbformat": 4
 },
 "nbformat": 4,
 "nbformat_minor": 2
}
